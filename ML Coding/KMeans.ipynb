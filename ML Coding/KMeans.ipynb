{
  "nbformat": 4,
  "nbformat_minor": 0,
  "metadata": {
    "colab": {
      "provenance": []
    },
    "kernelspec": {
      "name": "python3",
      "display_name": "Python 3"
    },
    "language_info": {
      "name": "python"
    }
  },
  "cells": [
    {
      "cell_type": "code",
      "execution_count": 25,
      "metadata": {
        "id": "mR-BkJPM9ejQ"
      },
      "outputs": [],
      "source": [
        "import numpy as np\n",
        "\n",
        "class KMeans:\n",
        "  def __init__(self, k, max_iterations = 100):\n",
        "    self.k = k\n",
        "    self.max_iterations = max_iterations\n",
        "\n",
        "  def fit(self, X):\n",
        "    self.centroids = X[np.random.choice(range(len(X)), self.k, replace = False)]\n",
        "\n",
        "    for i in range(self.max_iterations):\n",
        "      #Cluster Assignments\n",
        "      cluster_assign = []\n",
        "      for j in range(len(X)):\n",
        "        # print(\"X[j] = \", X[j])\n",
        "        # print(\"self.centroids = \", self.centroids)\n",
        "        distances = np.linalg.norm(self.centroids - X[j], axis = 1)\n",
        "        # print(\"self.centroids - X[j]: \",  self.centroids - X[j])\n",
        "        cluster_assign.append(np.argmin(distances))\n",
        "\n",
        "\n",
        "      #Recalculate clusters\n",
        "      for k in range(self.k):\n",
        "        cluster_points = X[np.where(np.array(cluster_assign) == k)]\n",
        "        if len(cluster_points) > 0:\n",
        "          self.centroids[k] = np.mean(cluster_points, axis = 0)\n",
        "\n",
        "      if i > 0 and np.array_equal(self.centroids, prev_centroids):\n",
        "        break\n",
        "      prev_centroids = np.copy(self.centroids)\n",
        "\n",
        "    self.cluster_assign = cluster_assign\n",
        "\n",
        "  def predict(self, X):\n",
        "    cluster_assign = []\n",
        "    for i in range(len(X)):\n",
        "      distances = np.linalg.norm(self.centroids - X[i], axis = 1)\n",
        "      cluster_assign.append(np.argmin(distances))\n",
        "    return cluster_assign\n",
        "\n",
        "\n",
        "\n",
        "\n",
        "\n"
      ]
    },
    {
      "cell_type": "code",
      "source": [
        "x1 = np.random.randn(5,2) + 5\n",
        "x2 = np.random.randn(5,2) - 5\n",
        "X = np.concatenate([x1, x2], axis = 0)\n",
        "\n",
        "print(\"X = \", X)\n",
        "\n",
        "kmeans = KMeans(k=2)\n",
        "kmeans.fit(X)\n",
        "\n",
        "cluster_assign = kmeans.predict(X)\n",
        "\n",
        "print(cluster_assign)\n",
        "\n",
        "print(kmeans.centroids)\n"
      ],
      "metadata": {
        "colab": {
          "base_uri": "https://localhost:8080/"
        },
        "id": "LE6eiRiGP0ce",
        "outputId": "fc0afaaa-88da-41f8-fc10-ef720839d33c"
      },
      "execution_count": 33,
      "outputs": [
        {
          "output_type": "stream",
          "name": "stdout",
          "text": [
            "X =  [[ 4.58430931  4.0957114 ]\n",
            " [ 5.80018644  3.55296096]\n",
            " [ 5.76864307  5.38383748]\n",
            " [ 5.66377866  3.63427579]\n",
            " [ 3.79867631  3.70291014]\n",
            " [-3.75384116 -5.26070384]\n",
            " [-4.55587384 -4.77440369]\n",
            " [-5.15795043 -4.68236721]\n",
            " [-5.00929488 -6.26674291]\n",
            " [-4.48887041 -5.90128668]]\n",
            "[1, 1, 1, 1, 1, 0, 0, 0, 0, 0]\n",
            "[[-4.59316614 -5.37710087]\n",
            " [ 5.12311876  4.07393915]]\n"
          ]
        }
      ]
    },
    {
      "cell_type": "code",
      "source": [
        "import matplotlib.pyplot as plt\n",
        "\n",
        "colors = ['r', 'b']\n",
        "\n",
        "for i in range(kmeans.k):\n",
        "  plt.scatter(X[np.where(np.array(cluster_assign) == i)][:,0],\n",
        "              X[np.where(np.array(cluster_assign) == i)][:,1],\n",
        "              color = colors[i])\n",
        "plt.scatter(kmeans.centroids[:,0], kmeans.centroids[:,1], color = 'black', marker = 'o')\n",
        "\n",
        "plt.show()"
      ],
      "metadata": {
        "colab": {
          "base_uri": "https://localhost:8080/",
          "height": 430
        },
        "id": "8SRgB1vFZI7L",
        "outputId": "19db0a48-b790-4b68-d46a-fb25f95fb10b"
      },
      "execution_count": 34,
      "outputs": [
        {
          "output_type": "display_data",
          "data": {
            "text/plain": [
              "<Figure size 640x480 with 1 Axes>"
            ],
            "image/png": "[encoded data removed]"
          },
          "metadata": {}
        }
      ]
    },
    {
      "cell_type": "code",
      "source": [],
      "metadata": {
        "id": "4AOPVbfobzby"
      },
      "execution_count": null,
      "outputs": []
    }
  ]
}