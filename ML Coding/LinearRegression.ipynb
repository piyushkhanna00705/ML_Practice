{
  "nbformat": 4,
  "nbformat_minor": 0,
  "metadata": {
    "colab": {
      "provenance": []
    },
    "kernelspec": {
      "name": "python3",
      "display_name": "Python 3"
    },
    "language_info": {
      "name": "python"
    }
  },
  "cells": [
    {
      "cell_type": "markdown",
      "source": [
        "Linear Regression Vectorized:\n",
        "\n",
        "$y=X.W$ \\\\\n",
        "$W=(X^TX)^{-1}X^Ty$\n"
      ],
      "metadata": {
        "id": "BB2PkoRNeIaX"
      }
    },
    {
      "cell_type": "code",
      "execution_count": null,
      "metadata": {
        "id": "eS6z6uwnLZpv"
      },
      "outputs": [],
      "source": [
        "import numpy as np\n",
        "\n",
        "class LinearRegression:\n",
        "  def __init__(self):\n",
        "    self.W = None\n",
        "  def fit(self, X, y):\n",
        "    n = X.shape[0]\n",
        "    X = np.hstack([np.ones((n, 1)), X])\n",
        "    self.W = np.linalg.inv(X.T@X)@X.T@y\n",
        "  def predict(self, X):\n",
        "    n = X.shape[0]\n",
        "    X = np.hstack([np.ones((n,1)), X])\n",
        "    return X@self.W\n"
      ]
    },
    {
      "cell_type": "code",
      "source": [
        "X = np.array([[2, 2], [4, 5], [7, 8]])\n",
        "y = np.array([9, 17, 26])"
      ],
      "metadata": {
        "id": "YTCLmsC_guIw"
      },
      "execution_count": null,
      "outputs": []
    },
    {
      "cell_type": "code",
      "source": [
        "lr = LinearRegression()\n",
        "lr.fit(X, y)\n",
        "print(lr.W)"
      ],
      "metadata": {
        "colab": {
          "base_uri": "https://localhost:8080/"
        },
        "id": "I5PSfS3FhFAH",
        "outputId": "60fb941a-0f79-42c8-fc9c-e78988647887"
      },
      "execution_count": null,
      "outputs": [
        {
          "output_type": "stream",
          "name": "stdout",
          "text": [
            "[3. 1. 2.]\n"
          ]
        }
      ]
    },
    {
      "cell_type": "code",
      "source": [
        "X_new = np.array([[10, 11], [13, 14]])\n",
        "y_pred = lr.predict(X_new)\n",
        "print(y_pred)"
      ],
      "metadata": {
        "colab": {
          "base_uri": "https://localhost:8080/"
        },
        "id": "08ICPCqnhNnf",
        "outputId": "7578c495-d778-43af-87d5-693c326bac5f"
      },
      "execution_count": null,
      "outputs": [
        {
          "output_type": "stream",
          "name": "stdout",
          "text": [
            "[35. 44.]\n"
          ]
        }
      ]
    },
    {
      "cell_type": "markdown",
      "source": [
        "###Considerations for LinearRegressionSG:\n",
        "1. Order of np.dot() matters for broadcasting, otherwise ValueError is raised for mismatched shapes.\n",
        "2. Sign of the gradient (cost) should be considered carefully."
      ],
      "metadata": {
        "id": "JvoX-OVanSkH"
      }
    },
    {
      "cell_type": "code",
      "source": [
        "import numpy as np\n",
        "\n",
        "#LinearRegression with gradient descent and regularization\n",
        "class LinearRegressionGD:\n",
        "  def __init__(self, regul = 0):\n",
        "    self.W = None\n",
        "    self.regul = regul\n",
        "  def fit(self, X, y, lr = 0.01, num_iter = 1000):\n",
        "    if len(X) != len(y) or len(X) == 0:\n",
        "      raise ValueError(\"X and y must have equal length and can't be empty\")\n",
        "    X = np.hstack([np.ones((len(X), 1)), X])\n",
        "    self.W = np.zeros(X.shape[1])\n",
        "    for i in range(num_iter):\n",
        "      y_pred = np.dot(X, self.W)\n",
        "      cost = np.sum((y - y_pred)**2) + self.regul * np.sum(self.W**2)\n",
        "      gradient = 2*np.dot(X.T, (y_pred - y)) + 2*self.regul*self.W\n",
        "      self.W = self.W - lr*gradient\n",
        "      if i%1000 == 0:\n",
        "        print(\"Cost\", cost)\n",
        "  def predict(self, X):\n",
        "    X = np.hstack([np.ones((len(X), 1)), X])\n",
        "    y_pred = np.dot(X, self.W)\n",
        "    return y_pred"
      ],
      "metadata": {
        "id": "8KG8CSmfXQXW"
      },
      "execution_count": null,
      "outputs": []
    },
    {
      "cell_type": "code",
      "source": [
        "X = np.array([[1,2,3,4,5]]).T\n",
        "y = np.array([2, 4, 5, 4, 5])"
      ],
      "metadata": {
        "id": "uEnUBMGraB3_"
      },
      "execution_count": null,
      "outputs": []
    },
    {
      "cell_type": "code",
      "source": [
        "linr = LinearRegressionGD(regul = 0.1)\n",
        "linr.fit(X, y, lr=0.01, num_iter=10000)\n",
        "print(linr.W)\n",
        "y_pred = linr.predict(X)\n",
        "print(y_pred)"
      ],
      "metadata": {
        "colab": {
          "base_uri": "https://localhost:8080/"
        },
        "id": "WHJkQOpyaRXC",
        "outputId": "e1252916-e9a1-4bb5-84ef-a1ee4afa48dc"
      },
      "execution_count": null,
      "outputs": [
        {
          "output_type": "stream",
          "name": "stdout",
          "text": [
            "Cost 86.0\n",
            "Cost 2.8791287270130335\n",
            "Cost 2.8791287270130344\n",
            "Cost 2.8791287270130344\n",
            "Cost 2.8791287270130344\n",
            "Cost 2.8791287270130344\n",
            "Cost 2.8791287270130344\n",
            "Cost 2.8791287270130344\n",
            "Cost 2.8791287270130344\n",
            "Cost 2.8791287270130344\n",
            "[1.99964292 0.65345474]\n",
            "[2.65309766 3.3065524  3.96000714 4.61346188 5.26691662]\n"
          ]
        }
      ]
    },
    {
      "cell_type": "code",
      "source": [
        "X.shape"
      ],
      "metadata": {
        "colab": {
          "base_uri": "https://localhost:8080/"
        },
        "id": "z0DKPleHa4xS",
        "outputId": "425051e6-79b5-4cea-f50f-d23972ddd9d9"
      },
      "execution_count": null,
      "outputs": [
        {
          "output_type": "execute_result",
          "data": {
            "text/plain": [
              "(5, 1)"
            ]
          },
          "metadata": {},
          "execution_count": 28
        }
      ]
    },
    {
      "cell_type": "code",
      "source": [],
      "metadata": {
        "id": "6EfBjqScoi96"
      },
      "execution_count": null,
      "outputs": []
    }
  ]
}